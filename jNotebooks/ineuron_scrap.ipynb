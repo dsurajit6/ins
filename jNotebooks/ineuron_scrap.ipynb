{
 "cells": [
  {
   "cell_type": "code",
   "execution_count": 4,
   "id": "7e420cf8-42e1-4eb2-ace6-5ccf826022cc",
   "metadata": {},
   "outputs": [],
   "source": [
    "from flask import Flask, render_template, request,jsonify\n",
    "from flask_cors import CORS,cross_origin\n",
    "import requests\n",
    "from bs4 import BeautifulSoup as bs\n",
    "from urllib.request import urlopen as uReq"
   ]
  },
  {
   "cell_type": "code",
   "execution_count": 5,
   "id": "1fb98450-ec60-4927-be42-e8a6aa0d9f1f",
   "metadata": {},
   "outputs": [],
   "source": [
    "in_url = \"https://ineuron.ai/\""
   ]
  },
  {
   "cell_type": "code",
   "execution_count": 16,
   "id": "b0396e4a-72e3-472c-9aff-908b8acdaab0",
   "metadata": {},
   "outputs": [],
   "source": [
    "test_url = \"https://ineuron.ai/course/Complete-DSA-in-Python\""
   ]
  },
  {
   "cell_type": "code",
   "execution_count": 17,
   "id": "6abf6b27-072d-46fd-9d84-3eb7de8a6c55",
   "metadata": {},
   "outputs": [],
   "source": [
    "urlclient = uReq(test_url)"
   ]
  },
  {
   "cell_type": "code",
   "execution_count": 18,
   "id": "8a2c420b-3326-458e-93fa-212d092f0426",
   "metadata": {},
   "outputs": [],
   "source": [
    "flipkartpage = urlclient.read()"
   ]
  },
  {
   "cell_type": "code",
   "execution_count": 19,
   "id": "82997b79-6b11-4bd6-b845-b215ca280ed5",
   "metadata": {},
   "outputs": [],
   "source": [
    "urlclient.close()"
   ]
  },
  {
   "cell_type": "code",
   "execution_count": 20,
   "id": "cf199cfe-f215-4441-a903-48698686c296",
   "metadata": {},
   "outputs": [],
   "source": [
    "flipkart_html = bs(flipkartpage, 'html.parser')"
   ]
  },
  {
   "cell_type": "code",
   "execution_count": 21,
   "id": "2aeb01ff-b0a6-4587-af23-39c372124213",
   "metadata": {},
   "outputs": [],
   "source": [
    "bigboxes = flipkart_html.findAll(\"div\",{\"class\" : \"CurriculumAndProjects_curriculum-accordion__fI8wj CurriculumAndProjects_card__rF6YN card\"})"
   ]
  },
  {
   "cell_type": "code",
   "execution_count": 22,
   "id": "59f6e2d3-eb3e-4b79-b90c-82ec4e1bd497",
   "metadata": {},
   "outputs": [
    {
     "data": {
      "text/plain": [
       "0"
      ]
     },
     "execution_count": 22,
     "metadata": {},
     "output_type": "execute_result"
    }
   ],
   "source": [
    "len(bigboxes)"
   ]
  },
  {
   "cell_type": "code",
   "execution_count": 25,
   "id": "d4f50372-1286-4db5-829d-c8f4367ccea1",
   "metadata": {},
   "outputs": [],
   "source": [
    "# flipkart_html"
   ]
  },
  {
   "cell_type": "code",
   "execution_count": null,
   "id": "728fe0b9-19bc-4e1e-bb15-abdd57c20dd6",
   "metadata": {},
   "outputs": [],
   "source": []
  },
  {
   "cell_type": "code",
   "execution_count": null,
   "id": "0b223e06-0e8b-4ad8-bc57-de68f3052886",
   "metadata": {},
   "outputs": [],
   "source": []
  },
  {
   "cell_type": "code",
   "execution_count": null,
   "id": "c5a3cd97-4e7f-4b23-a0ea-d047bb60e45c",
   "metadata": {},
   "outputs": [],
   "source": []
  },
  {
   "cell_type": "code",
   "execution_count": 180,
   "id": "6d193c87-e204-4498-bc43-af1e3ed39a36",
   "metadata": {},
   "outputs": [],
   "source": [
    "import json\n",
    "import requests\n",
    "from bs4 import BeautifulSoup"
   ]
  },
  {
   "cell_type": "code",
   "execution_count": 204,
   "id": "08438d43-2ab8-4111-9ec9-99ba2b0dc77a",
   "metadata": {},
   "outputs": [],
   "source": [
    "# test_url = \"https://ineuron.ai/course/Complete-DSA-in-Python\"\n",
    "new_url = \"https://ineuron.ai/course/House-Price-Prediction\""
   ]
  },
  {
   "cell_type": "code",
   "execution_count": 205,
   "id": "102f6611-4a72-481b-b3c0-8e7b453d5094",
   "metadata": {},
   "outputs": [],
   "source": [
    "res = requests.get(new_url)\n",
    "soup = BeautifulSoup(res.content, 'html.parser')\n",
    "# soup = BeautifulSoup(res.content, 'lxml')"
   ]
  },
  {
   "cell_type": "code",
   "execution_count": 206,
   "id": "370a1e84-f904-40f9-b258-00efde24fa7a",
   "metadata": {},
   "outputs": [],
   "source": [
    "#soup"
   ]
  },
  {
   "cell_type": "code",
   "execution_count": 207,
   "id": "419fcfea-f4c8-4d64-874e-24005550c616",
   "metadata": {},
   "outputs": [],
   "source": [
    "course_data = soup.find(\"script\", {\"id\": \"__NEXT_DATA__\"})"
   ]
  },
  {
   "cell_type": "code",
   "execution_count": 208,
   "id": "370a5bc3-e01d-4dc9-a553-5225ad808b37",
   "metadata": {},
   "outputs": [],
   "source": [
    "course_json = json.loads(state_data.text)"
   ]
  },
  {
   "cell_type": "code",
   "execution_count": 209,
   "id": "15aa08cb-219f-4d06-b6f2-07ec091884aa",
   "metadata": {},
   "outputs": [
    {
     "data": {
      "text/plain": [
       "dict_keys(['_id', 'title', 'isJobGuaranteeProgram', 'courseInOneNeuron', 'batches', 'details', 'selfPacedBatch', 'meta'])"
      ]
     },
     "execution_count": 209,
     "metadata": {},
     "output_type": "execute_result"
    }
   ],
   "source": [
    "course_json['props']['pageProps']['data'].keys()"
   ]
  },
  {
   "cell_type": "code",
   "execution_count": 210,
   "id": "21273538-e74c-47d7-951d-41f0e609add5",
   "metadata": {},
   "outputs": [
    {
     "data": {
      "text/plain": [
       "'Complete DSA in Python'"
      ]
     },
     "execution_count": 210,
     "metadata": {},
     "output_type": "execute_result"
    }
   ],
   "source": [
    "course_json['props']['pageProps']['data']['title']"
   ]
  },
  {
   "cell_type": "code",
   "execution_count": 211,
   "id": "382a886e-1d0b-49d7-84bf-699480145717",
   "metadata": {},
   "outputs": [
    {
     "data": {
      "text/plain": [
       "'A comprehensive chase to excel any intreview for the Data Structures and Algorithms. This course has been specifically designed to provide resources that would assist you in cracking problem-solving interviews. The presented problems in the course would suffice to look on to positive outcomes in the interviews.'"
      ]
     },
     "execution_count": 211,
     "metadata": {},
     "output_type": "execute_result"
    }
   ],
   "source": [
    "course_json['props']['pageProps']['data']['details']['description']"
   ]
  },
  {
   "cell_type": "code",
   "execution_count": 189,
   "id": "0059c599-0fdb-409e-9790-14f0d75264a0",
   "metadata": {},
   "outputs": [
    {
     "data": {
      "text/plain": [
       "'63bbd0863d8c5c05632becbc.jpg'"
      ]
     },
     "execution_count": 189,
     "metadata": {},
     "output_type": "execute_result"
    }
   ],
   "source": [
    "course_json['props']['pageProps']['data']['details']['img']"
   ]
  },
  {
   "cell_type": "code",
   "execution_count": 190,
   "id": "875e33f4-d766-4302-98b9-714faefe60a8",
   "metadata": {},
   "outputs": [
    {
     "data": {
      "text/plain": [
       "25000"
      ]
     },
     "execution_count": 190,
     "metadata": {},
     "output_type": "execute_result"
    }
   ],
   "source": [
    "course_json['props']['pageProps']['data']['details']['pricing']['IN']"
   ]
  },
  {
   "cell_type": "code",
   "execution_count": 191,
   "id": "9272eb67-875b-4094-b361-89baf974c7d0",
   "metadata": {},
   "outputs": [
    {
     "data": {
      "text/plain": [
       "'3 Months'"
      ]
     },
     "execution_count": 191,
     "metadata": {},
     "output_type": "execute_result"
    }
   ],
   "source": [
    "course_json['props']['pageProps']['data']['meta']['duration']"
   ]
  },
  {
   "cell_type": "code",
   "execution_count": 192,
   "id": "998cf778-7f55-4c38-8550-a066e9012e7d",
   "metadata": {},
   "outputs": [],
   "source": [
    "# course_json['props']['pageProps']['data']['meta']['curriculum']"
   ]
  },
  {
   "cell_type": "code",
   "execution_count": 193,
   "id": "b2cb8d30-fe74-4a13-a5a0-84811546e32a",
   "metadata": {},
   "outputs": [
    {
     "data": {
      "text/plain": [
       "['Introduction to Algorithms',\n",
       " 'Analysis in Algorithms',\n",
       " 'Array Data Structure',\n",
       " 'Heap Data Structure',\n",
       " 'Recursion',\n",
       " 'Divide and Conquer',\n",
       " 'Linked List Data Structure',\n",
       " 'Stack and Queue',\n",
       " 'Hashing Data Structure',\n",
       " 'Tree Data Structure',\n",
       " 'Binary Search Tree',\n",
       " 'Graph Traversal Algorithms',\n",
       " 'Application of greedy algorithm',\n",
       " 'Dynamic Programming',\n",
       " 'Research Area- P, NP, NP-Hard and NP-Complete Problems']"
      ]
     },
     "execution_count": 193,
     "metadata": {},
     "output_type": "execute_result"
    }
   ],
   "source": [
    "course_json['props']['pageProps']['data']['meta']['overview']['learn']"
   ]
  },
  {
   "cell_type": "code",
   "execution_count": 48,
   "id": "e683e61e-b16e-41ab-8245-a1e48f167005",
   "metadata": {},
   "outputs": [
    {
     "data": {
      "text/plain": [
       "['System with minimum i3 processor or better',\n",
       " 'At least 4 GB of RAM',\n",
       " 'Working internet connection',\n",
       " 'Dedication to learn']"
      ]
     },
     "execution_count": 48,
     "metadata": {},
     "output_type": "execute_result"
    }
   ],
   "source": [
    "course_json['props']['pageProps']['data']['meta']['overview']['requirements']"
   ]
  },
  {
   "cell_type": "code",
   "execution_count": 49,
   "id": "17b858bc-a6db-44c9-9c91-c0537fcf3228",
   "metadata": {},
   "outputs": [
    {
     "data": {
      "text/plain": [
       "['Course Materials',\n",
       " 'Self Paced Learning',\n",
       " 'Lifetime Dashboard Access',\n",
       " 'Completion Certificate']"
      ]
     },
     "execution_count": 49,
     "metadata": {},
     "output_type": "execute_result"
    }
   ],
   "source": [
    "course_json['props']['pageProps']['data']['meta']['overview']['features']"
   ]
  },
  {
   "cell_type": "code",
   "execution_count": 50,
   "id": "a5a246b6-9c56-4948-9cb5-a3f56fe8ac87",
   "metadata": {},
   "outputs": [
    {
     "data": {
      "text/plain": [
       "'english'"
      ]
     },
     "execution_count": 50,
     "metadata": {},
     "output_type": "execute_result"
    }
   ],
   "source": [
    "course_json['props']['pageProps']['data']['meta']['overview']['language']"
   ]
  },
  {
   "cell_type": "code",
   "execution_count": 51,
   "id": "f278b0dc-17c5-4c09-8e84-c92bd1fc78b1",
   "metadata": {},
   "outputs": [
    {
     "data": {
      "text/plain": [
       "'Complete-DSA-in-Python'"
      ]
     },
     "execution_count": 51,
     "metadata": {},
     "output_type": "execute_result"
    }
   ],
   "source": [
    "course_json['props']['pageProps']['slug']"
   ]
  },
  {
   "cell_type": "code",
   "execution_count": 52,
   "id": "fc08fb72-5fd0-41c9-a5ec-6c4c261b47ff",
   "metadata": {},
   "outputs": [
    {
     "name": "stdout",
     "output_type": "stream",
     "text": [
      "Hello\n"
     ]
    }
   ],
   "source": [
    "print(\"Hello\")"
   ]
  },
  {
   "cell_type": "code",
   "execution_count": 53,
   "id": "669784af-405a-460f-a5f2-47614569f865",
   "metadata": {},
   "outputs": [
    {
     "name": "stdout",
     "output_type": "stream",
     "text": [
      "Collecting fpdf2\n",
      "  Downloading fpdf2-2.6.1-py2.py3-none-any.whl (255 kB)\n",
      "\u001b[2K     \u001b[90m━━━━━━━━━━━━━━━━━━━━━━━━━━━━━━━━━━━━━━━\u001b[0m \u001b[32m255.6/255.6 kB\u001b[0m \u001b[31m3.2 MB/s\u001b[0m eta \u001b[36m0:00:00\u001b[0ma \u001b[36m0:00:01\u001b[0m\n",
      "\u001b[?25hCollecting Pillow!=9.2.*,>=6.2.2\n",
      "  Downloading Pillow-9.4.0-cp310-cp310-manylinux_2_28_x86_64.whl (3.4 MB)\n",
      "\u001b[2K     \u001b[90m━━━━━━━━━━━━━━━━━━━━━━━━━━━━━━━━━━━━━━━━\u001b[0m \u001b[32m3.4/3.4 MB\u001b[0m \u001b[31m6.8 MB/s\u001b[0m eta \u001b[36m0:00:00\u001b[0ma \u001b[36m0:00:01\u001b[0mm\n",
      "\u001b[?25hRequirement already satisfied: defusedxml in /opt/conda/lib/python3.10/site-packages (from fpdf2) (0.7.1)\n",
      "Requirement already satisfied: fonttools>=4.34.0 in /opt/conda/lib/python3.10/site-packages (from fpdf2) (4.38.0)\n",
      "Installing collected packages: Pillow, fpdf2\n",
      "  Attempting uninstall: Pillow\n",
      "    Found existing installation: Pillow 9.2.0\n",
      "    Uninstalling Pillow-9.2.0:\n",
      "      Successfully uninstalled Pillow-9.2.0\n",
      "Successfully installed Pillow-9.4.0 fpdf2-2.6.1\n",
      "Note: you may need to restart the kernel to use updated packages.\n"
     ]
    }
   ],
   "source": [
    "pip install fpdf2"
   ]
  },
  {
   "cell_type": "code",
   "execution_count": 54,
   "id": "49c1483a-6df5-4ce5-81a8-06e16427ebd9",
   "metadata": {},
   "outputs": [],
   "source": [
    "from fpdf import FPDF"
   ]
  },
  {
   "cell_type": "code",
   "execution_count": 150,
   "id": "bd9132f1-5616-4b51-a64a-40fddd68f433",
   "metadata": {},
   "outputs": [],
   "source": [
    "class PDF(FPDF):\n",
    "    def hero(self, title, description, duration, language, price):\n",
    "        self.set_font('helvetica', 'B', 22)\n",
    "        self.cell(0, 10, title, ln=True)\n",
    "        self.set_font('helvetica','', 12)\n",
    "        self.multi_cell(0, 5, description, ln=True)\n",
    "        self.set_font('helvetica','', 18)\n",
    "        self.cell(70, 10, \"Duration : \"+duration)\n",
    "        self.cell(70, 10, \"Language : \"+language)\n",
    "        self.cell(70, 10, \"Price : \"+price)\n",
    "        self.ln()\n",
    "\n",
    "    def section(self, title, details):\n",
    "        self.set_font('helvetica','B', 18)\n",
    "        self.cell(0, 5, title, ln=True)\n",
    "        self.set_font('helvetica','', 14)\n",
    "        self.text = ''\n",
    "        for d in details:\n",
    "            self.text += \"- \"+d+\"\\n\"\n",
    "        self.cell(3)\n",
    "        self.multi_cell(0,7, self.text)\n",
    "    \n",
    "    def course_curriculum(self, curriculum):\n",
    "        self.set_font('helvetica','B', 20)\n",
    "        self.cell(0, 10, \"Course Curriculum\", ln=True)\n",
    "        for c in curriculum:\n",
    "            title = c.get(\"title\")\n",
    "            temp = c.get(\"items\")\n",
    "            details = []\n",
    "            for t in temp:\n",
    "                details.append(t.get('title'))\n",
    "\n",
    "            self.section(title, details)"
   ]
  },
  {
   "cell_type": "code",
   "execution_count": 151,
   "id": "f3686ae0-12b0-490b-a914-8d6ac0bcf65a",
   "metadata": {},
   "outputs": [
    {
     "name": "stderr",
     "output_type": "stream",
     "text": [
      "/tmp/ipykernel_316/4262279809.py:4: DeprecationWarning: The parameter \"ln\" is deprecated. Instead of ln=True use new_x=XPos.LMARGIN, new_y=YPos.NEXT.\n",
      "  self.cell(0, 10, title, ln=True)\n",
      "/tmp/ipykernel_316/4262279809.py:6: DeprecationWarning: The parameter \"ln\" is deprecated. Instead of ln=True use new_x=XPos.LMARGIN, new_y=YPos.NEXT.\n",
      "  self.multi_cell(0, 5, description, ln=True)\n",
      "/tmp/ipykernel_316/4262279809.py:15: DeprecationWarning: The parameter \"ln\" is deprecated. Instead of ln=True use new_x=XPos.LMARGIN, new_y=YPos.NEXT.\n",
      "  self.cell(0, 5, title, ln=True)\n",
      "/tmp/ipykernel_316/4262279809.py:25: DeprecationWarning: The parameter \"ln\" is deprecated. Instead of ln=True use new_x=XPos.LMARGIN, new_y=YPos.NEXT.\n",
      "  self.cell(0, 10, \"Course Curriculum\", ln=True)\n"
     ]
    }
   ],
   "source": [
    "pdf = PDF('P', 'mm', 'Letter')\n",
    "\n",
    "#Add Page\n",
    "pdf.add_page()\n",
    "\n",
    "# specify font\n",
    "pdf.set_font('helvetica', 'BIU', 16)\n",
    "pdf.set_font('times', '', 12)\n",
    "\n",
    "title = course_json['props']['pageProps']['data']['title']\n",
    "description = course_json['props']['pageProps']['data']['details']['description']\n",
    "img_url = \"https://cdn.ineuron.ai/assets/uploads/thumbnails/63bbd0863d8c5c05632becbc.jpg\"\n",
    "duration = course_json['props']['pageProps']['data']['meta']['duration']\n",
    "language = course_json['props']['pageProps']['data']['meta']['overview']['language']\n",
    "price = str(course_json['props']['pageProps']['data']['details']['pricing']['IN'])\n",
    "requirements = course_json['props']['pageProps']['data']['meta']['overview']['requirements']\n",
    "features = course_json['props']['pageProps']['data']['meta']['overview']['features']\n",
    "learn = course_json['props']['pageProps']['data']['meta']['overview']['learn']\n",
    "curriculum = course_json['props']['pageProps']['data']['meta']['curriculum'].values()\n",
    "pdf.hero(title, description, duration, language, price)\n",
    "pdf.ln()\n",
    "pdf.section(\"What you will learn?\", learn)\n",
    "pdf.section(\"Features\", features)\n",
    "pdf.section(\"Requirements\", requirements)\n",
    "pdf.course_curriculum(curriculum)\n",
    "pdf.output('pdf_test.pdf')\n"
   ]
  },
  {
   "cell_type": "code",
   "execution_count": 141,
   "id": "e573740d-c74d-4526-b5ce-dcc41bb76f42",
   "metadata": {},
   "outputs": [],
   "source": [
    "cc = course_json['props']['pageProps']['data']['meta']['curriculum'].values()"
   ]
  },
  {
   "cell_type": "code",
   "execution_count": 147,
   "id": "46d49e7d-2b84-4c42-ab59-e16ae76126fb",
   "metadata": {},
   "outputs": [
    {
     "name": "stdout",
     "output_type": "stream",
     "text": [
      "Introduction to Algorithms ['Complete DSA Roadmap', 'Why DSA required', 'Algorithms Introduction', 'Steps to construct an algo']\n",
      "Analysis in Algorithms ['Types of Analysis', 'Asymptotic Notation - Big O Time Complexity', 'Asymptotic Notation - Omega Time Complexity', 'Asymptotic Notation - Theta Time Complexity', 'Apriori Analysis - Time Complexity Analysis Part1', 'Apriori Analysis - Time Complexity Analysis Part2', 'Apriori Analysis - Time Complexity Analysis Part3', 'Practice Set - Asymptotic Notations', 'Complexity Classes', 'Recurrence Relation Introduction', 'Substitution Method - Problem 1', 'Substitution Method - Problem 2', 'Substitution Method - Problem 3', 'Recursive Tree Approach - Problem 1', 'Recursive Tree Approach - Problem 2', 'Recursive Tree Approach - Problem 3', 'Practice Set - Substitution and Recursive Tree Approach', 'Masters Theorem Case 1', 'Masters Theorem Case 2', 'Masters Theorem Case 3', 'Practice Set - Masters Theorem']\n",
      "Array Data Structure ['Introduction to Array Data Structure', 'Array Data Structure Implementation', 'Address of an element in 1D array', 'Address of an element in 2D array', 'Searching of an element - Linear Search', 'Searching of an element - Binary Search', 'Recurrence Relation of Binary Search', 'Implementation of Binary Search', 'Binary Search Interview Problem', 'Search a 2D Matrix', 'Searching of an element - Ternary Search', 'Recurrence Relation of Ternary Search', 'Implementation of Ternary Search', 'Sorting in an array - Comparison and Non-Comparison', 'Stable and Unstable sorting algorithms', 'Inplace and Outplace Sorting algorithms', 'Comparison Sort - Bubble Sort', 'Comparison Sort - Bubble Sort Implementation', 'Comparison Sort - Selection Sort', 'Comparison Sort - Selection Sort Implementation', 'Comparison Sort - Insertion Sort', 'Comparison Sort - Insertion Sort Implementation', 'FAANG Interview Question on Arrays - Best Time to Buy and Sell Stock', 'FAANG Interview Question on Arrays - Collinear Points', 'FAANG Interview Question on Arrays - Majority Element', 'FAANG Interview Question on Arrays - Sort Colors']\n",
      "Heap Data Structure ['Basics of Heap Sort - Full Binary Tree vs Complete Binary Tree vs Almost Complete Binary Tree', 'Concept of Minheap and Maxheap Tree', 'Insertion in Minheap or Maxheap Tree', 'Deletion in Minheap or Maxheap Tree', 'Creation of Minheap or Maxheap Tree', 'Time Complexity Derivation to build minheap or maxheap', 'Comparison Sort - Heap Sort', 'FAANG Interview Question on Heap - Top K frequent elements', 'FAANG Interview Question on Heap - K Closest Points to Origin']\n",
      "Recursion ['Introduction to Recursion', 'Factorial Finding using Recursion with its Implementation', 'Fibonacci Series using Recursion with its Implementation', 'Count Of number of ways to reach upstairs']\n",
      "Divide and Conquer ['Introduction to Divide and Conquer', 'Applications of Divide and Conquer - Finding of maxima and minima', 'Applications of Divide and Conquer - Implementation of finding of maxima and minima', 'Applications of Divide and Conquer - Finding of power of an element with its Implementation', 'Applications of Divide and Conquer - Binary Search', 'Applications of Divide and Conquer - Recurrence relation of Binary Search', 'Applications of Divide and Conquer - Implementation of Binary Search', 'FAANG Interview Question- Two Pointers Problem', 'Applications of Divide and Conquer - Merge Sort', 'Applications of Divide and Conquer - Implementation of Merge Sort', 'FAANG Interview Question on MergeSort - Finding of single sorted array complexity', 'Applications of Divide and Conquer - Quick Sort', 'Applications of Divide and Conquer - Implementation of Quick Sort', 'FAANG Interview Scenario Based Question on QuickSort complexity', 'Applications of Divide and Conquer - Randomized QuickSort', 'Applications of Divide and Conquer - Selection Procedure', 'Applications of Divide and Conquer - Implementation of Selection Procedure', 'Applications of Divide and Conquer - Count Of number of an inversions', \"Applications of Divide and Conquer - Strassen's Matrix Multiplication\"]\n",
      "Linked List Data Structure ['Introduction to Linked List', 'Insertion of a node in Linked List - Front', 'Insertion of a node in Linked List - After a given node', 'Insertion of a node in Linked List - End', 'Deletion of a node in Linked List', 'Searching of a node in Linked List', 'FAANG Interview Question - Reversal of a node in Linked List', 'FAANG Interview Question - Count of all nodes in Linked List', \"FAANG Interview Question - Floyd's Cycle Detection Algorithm\", 'FAANG Interview Question - Merge Of two Sorted Linked List']\n",
      "Skip List Data Structure ['Skip List- Motivation, Build-in, Search, Insertion and Deletion skip list']\n",
      "Stack and Queue ['Introduction to Stack Data Structure and Push Operation in depth', 'Stack- Pop operation', 'Implementation of Stack using array and linked list', 'Queue- Insertion and Deletion operation', 'Implementation of Queue using array and linked list', 'FAANG Interview Question - Valid Parenthesis']\n",
      "Hashing Data Structure ['Introduction to Hashing Data Structure', 'Hash Function and its types', 'Implementation of Hash Functions', 'Open addressing - Linear Probing and Primary Clustering', 'Open addressing - Quadratic Probing and Secondary Clustering', 'Open addressing - Double Hashing', 'Chaining', 'Load Factor and Rehashing']\n",
      "Tree Data Structure ['Basics of Tree - Full Binary Tree vs Complete Binary Tree vs Almost Complete Binary Tree']\n",
      "Tree Traversal Algorithms ['Tree Traversal Algorithms- Inorder, Preorder and PostOrder', 'FAANG Interview Questions on Tree Traversal Algorithm']\n",
      "Binary Search Tree ['Introduction to Binary Search Tree', 'Insertion and Inorder Traversal in BST', 'FAANG Interview Question- Minimum value in BST', \"FAANG Interview Question- Find unique possible BST's\", 'Searching in Binary Search Tree', 'Deletion in Binary Search Tree']\n",
      "Graph Traversal Algorithms ['Basics Of Graph- Simple vs Multigraph, Null vs Complete Graph, Relationship between edges and vertices in Simple Graph', 'Introduction to Graph Traversal Algorithms', 'Introduction to Depth First Search', 'DFS Psuedocode and illustration using an example', 'DFS Coding Implementation', 'BFS Intro, Psuedocode and illustration using an example', 'BFS Coding Implementation']\n",
      "Greedy Algorithm ['Introduction to greedy algorithm']\n",
      "Application of greedy algorithm ['Fractional Knapsack Problem', 'Implementation of Fractional Knapsack Problem', 'Basics Of Graph- Simple vs Multigraph, Null vs Complete Graph, Relationship between edges and vertices in Simple Graph', 'Introduction to Spanning Tree and Minimum Spanning Tree', \"Minimum Spanning Tree- Kruskal 's Algorithm\", \"Minimum Spanning Tree- Prim's Algorithm\", \"Single Source Shortest Path- Dijkstra's algorithm\", \"Single Source Shortest Path- Dijkstra's algorithm Implementation\", 'Huffman Coding', 'Optimal Merge Pattern', 'Job Sequencing with Deadline']\n",
      "Dynamic Programming ['Introduction to Dynamic Programming']\n",
      "Application of Dynamic Programming ['Fibonacci Series using Dynamic Programming', '0-1 Knapsack Problem']\n",
      "Research Area- P, NP, NP-Hard and NP-Complete Problems ['Research Area- P, NP, NP-Hard and NP-Complete Problems']\n",
      "Some ending tips for all students ['Some ending tips for all students']\n",
      "Detailed Interview Process to crack FAANG Companies(SDE Roles) ['Detailed Interview Process to crack FAANG Companies']\n"
     ]
    }
   ],
   "source": [
    "for c in cc:\n",
    "    title = c.get(\"title\")\n",
    "    temp = c.get(\"items\")\n",
    "    details = []\n",
    "    for t in temp:\n",
    "        # print(t.get('title'))\n",
    "        details.append(t.get('title'))\n",
    "    \n",
    "    print(title, details)"
   ]
  },
  {
   "cell_type": "code",
   "execution_count": null,
   "id": "527ab8d6-a33a-4142-9421-463d31c43032",
   "metadata": {},
   "outputs": [],
   "source": []
  }
 ],
 "metadata": {
  "kernelspec": {
   "display_name": "Python 3 (ipykernel)",
   "language": "python",
   "name": "python3"
  },
  "language_info": {
   "codemirror_mode": {
    "name": "ipython",
    "version": 3
   },
   "file_extension": ".py",
   "mimetype": "text/x-python",
   "name": "python",
   "nbconvert_exporter": "python",
   "pygments_lexer": "ipython3",
   "version": "3.10.6"
  }
 },
 "nbformat": 4,
 "nbformat_minor": 5
}
